{
 "cells": [
  {
   "cell_type": "code",
   "execution_count": 31,
   "id": "cf1116e6",
   "metadata": {},
   "outputs": [],
   "source": [
    "import numpy as np\n",
    "import pandas as pd\n",
    "\n",
    "from sklearn.model_selection import train_test_split,StratifiedKFold,KFold,cross_val_score\n",
    "from sklearn.metrics import accuracy_score,confusion_matrix,classification_report\n",
    "from sklearn.compose import ColumnTransformer\n",
    "from sklearn.pipeline import Pipeline\n",
    "from sklearn.impute import SimpleImputer\n",
    "from sklearn.preprocessing import StandardScaler, OneHotEncoder,RobustScaler\n",
    "from sklearn.preprocessing import LabelEncoder\n",
    "\n",
    "from xgboost import XGBClassifier\n",
    "from sklearn.ensemble import RandomForestClassifier"
   ]
  },
  {
   "cell_type": "code",
   "execution_count": 32,
   "id": "024f5436",
   "metadata": {},
   "outputs": [],
   "source": [
    "df = pd.read_csv(\"weatherAUS.csv\")\n"
   ]
  },
  {
   "cell_type": "code",
   "execution_count": 33,
   "id": "387e48b1",
   "metadata": {},
   "outputs": [],
   "source": [
    "X = df.drop([\"RainTomorrow\",\"Date\"], axis=1)\n",
    "Y = df[\"RainTomorrow\"]"
   ]
  },
  {
   "cell_type": "code",
   "execution_count": 34,
   "id": "bf54b58d",
   "metadata": {},
   "outputs": [],
   "source": [
    "X_train, X_test, y_train, y_test = train_test_split(X,Y, test_size =0.2, random_state = 0)\n",
    "X_train = X_train.values\n",
    "y_train = y_train.values\n",
    "X_test = X_test.values\n",
    "y_test = y_test.values"
   ]
  },
  {
   "cell_type": "code",
   "execution_count": 35,
   "id": "1c76e36d",
   "metadata": {},
   "outputs": [
    {
     "name": "stdout",
     "output_type": "stream",
     "text": [
      "['Location', 'WindGustDir', 'WindDir9am', 'WindDir3pm', 'RainToday']\n",
      "['MinTemp', 'MaxTemp', 'Rainfall', 'Evaporation', 'Sunshine', 'WindGustSpeed', 'WindSpeed9am', 'WindSpeed3pm', 'Humidity9am', 'Humidity3pm', 'Pressure9am', 'Pressure3pm', 'Cloud9am', 'Cloud3pm', 'Temp9am', 'Temp3pm']\n"
     ]
    }
   ],
   "source": [
    "categorical_cols = []\n",
    "categorical_inds = []\n",
    "counting_cols = []\n",
    "counting_inds  = []\n",
    "cnt=0\n",
    "for i in X.columns:\n",
    "    cnt+=1\n",
    "    if df[i].dtype!=float:\n",
    "        categorical_cols.append(i)\n",
    "        categorical_inds.append(cnt-1)\n",
    "    \n",
    "\n",
    "      \n",
    "    else:\n",
    "        counting_cols.append(i)\n",
    "        counting_inds.append(cnt-1)\n",
    "print(categorical_cols)\n",
    "print(counting_cols)"
   ]
  },
  {
   "cell_type": "code",
   "execution_count": 36,
   "id": "ab33c09c",
   "metadata": {},
   "outputs": [],
   "source": [
    "#Numerical\n",
    "numerical_transformer = Pipeline(steps=[\n",
    "    ('imputer', SimpleImputer(strategy='median')),\n",
    "    ('scaler', RobustScaler())\n",
    "])\n",
    "\n",
    "\n",
    "#Categorical\n",
    "categorical_transformer = Pipeline(steps=[\n",
    "    ('imputer', SimpleImputer(strategy='most_frequent')),\n",
    "    ('ohe',OneHotEncoder(handle_unknown='ignore')),\n",
    "])\n",
    "\n",
    "\n",
    "\n",
    "preprocessor = ColumnTransformer(\n",
    "    transformers=[\n",
    "        ('num', numerical_transformer, counting_inds),\n",
    "        ('cat', categorical_transformer, categorical_inds)\n",
    "    ],remainder='passthrough'\n",
    ")"
   ]
  },
  {
   "cell_type": "code",
   "execution_count": 37,
   "id": "95cbefdc",
   "metadata": {},
   "outputs": [],
   "source": [
    "le = LabelEncoder()\n",
    "y_train = le.fit_transform(y_train)\n",
    "y_test = le.transform(y_test)\n"
   ]
  },
  {
   "cell_type": "code",
   "execution_count": 38,
   "id": "d23a8059",
   "metadata": {},
   "outputs": [],
   "source": [
    "params = {\n",
    "            'objective':'binary:logistic',\n",
    "            'max_depth': 16,\n",
    "            'alpha': 10,\n",
    "            'learning_rate': 0.5,\n",
    "            'n_estimators':500\n",
    "        }        \n",
    "classifier = XGBClassifier(**params)\n"
   ]
  },
  {
   "cell_type": "code",
   "execution_count": 39,
   "id": "613bb5a7",
   "metadata": {},
   "outputs": [],
   "source": [
    "pipe = Pipeline(steps=[\n",
    "    ('preprocessor', preprocessor),\n",
    "    ('classifier', classifier)\n",
    "])"
   ]
  },
  {
   "cell_type": "code",
   "execution_count": 40,
   "id": "2a7d2087",
   "metadata": {},
   "outputs": [
    {
     "data": {
      "text/html": [
       "<style>#sk-57f63999-6980-4ac6-9bbb-fb89e3d5e9e5 {color: black;background-color: white;}#sk-57f63999-6980-4ac6-9bbb-fb89e3d5e9e5 pre{padding: 0;}#sk-57f63999-6980-4ac6-9bbb-fb89e3d5e9e5 div.sk-toggleable {background-color: white;}#sk-57f63999-6980-4ac6-9bbb-fb89e3d5e9e5 label.sk-toggleable__label {cursor: pointer;display: block;width: 100%;margin-bottom: 0;padding: 0.3em;box-sizing: border-box;text-align: center;}#sk-57f63999-6980-4ac6-9bbb-fb89e3d5e9e5 label.sk-toggleable__label-arrow:before {content: \"▸\";float: left;margin-right: 0.25em;color: #696969;}#sk-57f63999-6980-4ac6-9bbb-fb89e3d5e9e5 label.sk-toggleable__label-arrow:hover:before {color: black;}#sk-57f63999-6980-4ac6-9bbb-fb89e3d5e9e5 div.sk-estimator:hover label.sk-toggleable__label-arrow:before {color: black;}#sk-57f63999-6980-4ac6-9bbb-fb89e3d5e9e5 div.sk-toggleable__content {max-height: 0;max-width: 0;overflow: hidden;text-align: left;background-color: #f0f8ff;}#sk-57f63999-6980-4ac6-9bbb-fb89e3d5e9e5 div.sk-toggleable__content pre {margin: 0.2em;color: black;border-radius: 0.25em;background-color: #f0f8ff;}#sk-57f63999-6980-4ac6-9bbb-fb89e3d5e9e5 input.sk-toggleable__control:checked~div.sk-toggleable__content {max-height: 200px;max-width: 100%;overflow: auto;}#sk-57f63999-6980-4ac6-9bbb-fb89e3d5e9e5 input.sk-toggleable__control:checked~label.sk-toggleable__label-arrow:before {content: \"▾\";}#sk-57f63999-6980-4ac6-9bbb-fb89e3d5e9e5 div.sk-estimator input.sk-toggleable__control:checked~label.sk-toggleable__label {background-color: #d4ebff;}#sk-57f63999-6980-4ac6-9bbb-fb89e3d5e9e5 div.sk-label input.sk-toggleable__control:checked~label.sk-toggleable__label {background-color: #d4ebff;}#sk-57f63999-6980-4ac6-9bbb-fb89e3d5e9e5 input.sk-hidden--visually {border: 0;clip: rect(1px 1px 1px 1px);clip: rect(1px, 1px, 1px, 1px);height: 1px;margin: -1px;overflow: hidden;padding: 0;position: absolute;width: 1px;}#sk-57f63999-6980-4ac6-9bbb-fb89e3d5e9e5 div.sk-estimator {font-family: monospace;background-color: #f0f8ff;border: 1px dotted black;border-radius: 0.25em;box-sizing: border-box;margin-bottom: 0.5em;}#sk-57f63999-6980-4ac6-9bbb-fb89e3d5e9e5 div.sk-estimator:hover {background-color: #d4ebff;}#sk-57f63999-6980-4ac6-9bbb-fb89e3d5e9e5 div.sk-parallel-item::after {content: \"\";width: 100%;border-bottom: 1px solid gray;flex-grow: 1;}#sk-57f63999-6980-4ac6-9bbb-fb89e3d5e9e5 div.sk-label:hover label.sk-toggleable__label {background-color: #d4ebff;}#sk-57f63999-6980-4ac6-9bbb-fb89e3d5e9e5 div.sk-serial::before {content: \"\";position: absolute;border-left: 1px solid gray;box-sizing: border-box;top: 2em;bottom: 0;left: 50%;}#sk-57f63999-6980-4ac6-9bbb-fb89e3d5e9e5 div.sk-serial {display: flex;flex-direction: column;align-items: center;background-color: white;padding-right: 0.2em;padding-left: 0.2em;}#sk-57f63999-6980-4ac6-9bbb-fb89e3d5e9e5 div.sk-item {z-index: 1;}#sk-57f63999-6980-4ac6-9bbb-fb89e3d5e9e5 div.sk-parallel {display: flex;align-items: stretch;justify-content: center;background-color: white;}#sk-57f63999-6980-4ac6-9bbb-fb89e3d5e9e5 div.sk-parallel::before {content: \"\";position: absolute;border-left: 1px solid gray;box-sizing: border-box;top: 2em;bottom: 0;left: 50%;}#sk-57f63999-6980-4ac6-9bbb-fb89e3d5e9e5 div.sk-parallel-item {display: flex;flex-direction: column;position: relative;background-color: white;}#sk-57f63999-6980-4ac6-9bbb-fb89e3d5e9e5 div.sk-parallel-item:first-child::after {align-self: flex-end;width: 50%;}#sk-57f63999-6980-4ac6-9bbb-fb89e3d5e9e5 div.sk-parallel-item:last-child::after {align-self: flex-start;width: 50%;}#sk-57f63999-6980-4ac6-9bbb-fb89e3d5e9e5 div.sk-parallel-item:only-child::after {width: 0;}#sk-57f63999-6980-4ac6-9bbb-fb89e3d5e9e5 div.sk-dashed-wrapped {border: 1px dashed gray;margin: 0 0.4em 0.5em 0.4em;box-sizing: border-box;padding-bottom: 0.4em;background-color: white;position: relative;}#sk-57f63999-6980-4ac6-9bbb-fb89e3d5e9e5 div.sk-label label {font-family: monospace;font-weight: bold;background-color: white;display: inline-block;line-height: 1.2em;}#sk-57f63999-6980-4ac6-9bbb-fb89e3d5e9e5 div.sk-label-container {position: relative;z-index: 2;text-align: center;}#sk-57f63999-6980-4ac6-9bbb-fb89e3d5e9e5 div.sk-container {/* jupyter's `normalize.less` sets `[hidden] { display: none; }` but bootstrap.min.css set `[hidden] { display: none !important; }` so we also need the `!important` here to be able to override the default hidden behavior on the sphinx rendered scikit-learn.org. See: https://github.com/scikit-learn/scikit-learn/issues/21755 */display: inline-block !important;position: relative;}#sk-57f63999-6980-4ac6-9bbb-fb89e3d5e9e5 div.sk-text-repr-fallback {display: none;}</style><div id=\"sk-57f63999-6980-4ac6-9bbb-fb89e3d5e9e5\" class=\"sk-top-container\"><div class=\"sk-text-repr-fallback\"><pre>Pipeline(steps=[(&#x27;preprocessor&#x27;,\n",
       "                 ColumnTransformer(remainder=&#x27;passthrough&#x27;,\n",
       "                                   transformers=[(&#x27;num&#x27;,\n",
       "                                                  Pipeline(steps=[(&#x27;imputer&#x27;,\n",
       "                                                                   SimpleImputer(strategy=&#x27;median&#x27;)),\n",
       "                                                                  (&#x27;scaler&#x27;,\n",
       "                                                                   RobustScaler())]),\n",
       "                                                  [1, 2, 3, 4, 5, 7, 10, 11, 12,\n",
       "                                                   13, 14, 15, 16, 17, 18,\n",
       "                                                   19]),\n",
       "                                                 (&#x27;cat&#x27;,\n",
       "                                                  Pipeline(steps=[(&#x27;imputer&#x27;,\n",
       "                                                                   SimpleImputer(strategy=&#x27;most_frequent&#x27;)),\n",
       "                                                                  (&#x27;ohe&#x27;,\n",
       "                                                                   OneHotEncoder(handle_unknown=&#x27;ignore&#x27;))...\n",
       "                               feature_types=None, gamma=None, gpu_id=None,\n",
       "                               grow_policy=None, importance_type=None,\n",
       "                               interaction_constraints=None, learning_rate=0.5,\n",
       "                               max_bin=None, max_cat_threshold=None,\n",
       "                               max_cat_to_onehot=None, max_delta_step=None,\n",
       "                               max_depth=16, max_leaves=None,\n",
       "                               min_child_weight=None, missing=nan,\n",
       "                               monotone_constraints=None, n_estimators=500,\n",
       "                               n_jobs=None, num_parallel_tree=None,\n",
       "                               predictor=None, ...))])</pre><b>Please rerun this cell to show the HTML repr or trust the notebook.</b></div><div class=\"sk-container\" hidden><div class=\"sk-item sk-dashed-wrapped\"><div class=\"sk-label-container\"><div class=\"sk-label sk-toggleable\"><input class=\"sk-toggleable__control sk-hidden--visually\" id=\"d811af79-6ea4-489c-85b2-24ea798062dd\" type=\"checkbox\" ><label for=\"d811af79-6ea4-489c-85b2-24ea798062dd\" class=\"sk-toggleable__label sk-toggleable__label-arrow\">Pipeline</label><div class=\"sk-toggleable__content\"><pre>Pipeline(steps=[(&#x27;preprocessor&#x27;,\n",
       "                 ColumnTransformer(remainder=&#x27;passthrough&#x27;,\n",
       "                                   transformers=[(&#x27;num&#x27;,\n",
       "                                                  Pipeline(steps=[(&#x27;imputer&#x27;,\n",
       "                                                                   SimpleImputer(strategy=&#x27;median&#x27;)),\n",
       "                                                                  (&#x27;scaler&#x27;,\n",
       "                                                                   RobustScaler())]),\n",
       "                                                  [1, 2, 3, 4, 5, 7, 10, 11, 12,\n",
       "                                                   13, 14, 15, 16, 17, 18,\n",
       "                                                   19]),\n",
       "                                                 (&#x27;cat&#x27;,\n",
       "                                                  Pipeline(steps=[(&#x27;imputer&#x27;,\n",
       "                                                                   SimpleImputer(strategy=&#x27;most_frequent&#x27;)),\n",
       "                                                                  (&#x27;ohe&#x27;,\n",
       "                                                                   OneHotEncoder(handle_unknown=&#x27;ignore&#x27;))...\n",
       "                               feature_types=None, gamma=None, gpu_id=None,\n",
       "                               grow_policy=None, importance_type=None,\n",
       "                               interaction_constraints=None, learning_rate=0.5,\n",
       "                               max_bin=None, max_cat_threshold=None,\n",
       "                               max_cat_to_onehot=None, max_delta_step=None,\n",
       "                               max_depth=16, max_leaves=None,\n",
       "                               min_child_weight=None, missing=nan,\n",
       "                               monotone_constraints=None, n_estimators=500,\n",
       "                               n_jobs=None, num_parallel_tree=None,\n",
       "                               predictor=None, ...))])</pre></div></div></div><div class=\"sk-serial\"><div class=\"sk-item sk-dashed-wrapped\"><div class=\"sk-label-container\"><div class=\"sk-label sk-toggleable\"><input class=\"sk-toggleable__control sk-hidden--visually\" id=\"dab06f60-e9a2-4256-ad79-eec70e8b11a7\" type=\"checkbox\" ><label for=\"dab06f60-e9a2-4256-ad79-eec70e8b11a7\" class=\"sk-toggleable__label sk-toggleable__label-arrow\">preprocessor: ColumnTransformer</label><div class=\"sk-toggleable__content\"><pre>ColumnTransformer(remainder=&#x27;passthrough&#x27;,\n",
       "                  transformers=[(&#x27;num&#x27;,\n",
       "                                 Pipeline(steps=[(&#x27;imputer&#x27;,\n",
       "                                                  SimpleImputer(strategy=&#x27;median&#x27;)),\n",
       "                                                 (&#x27;scaler&#x27;, RobustScaler())]),\n",
       "                                 [1, 2, 3, 4, 5, 7, 10, 11, 12, 13, 14, 15, 16,\n",
       "                                  17, 18, 19]),\n",
       "                                (&#x27;cat&#x27;,\n",
       "                                 Pipeline(steps=[(&#x27;imputer&#x27;,\n",
       "                                                  SimpleImputer(strategy=&#x27;most_frequent&#x27;)),\n",
       "                                                 (&#x27;ohe&#x27;,\n",
       "                                                  OneHotEncoder(handle_unknown=&#x27;ignore&#x27;))]),\n",
       "                                 [0, 6, 8, 9, 20])])</pre></div></div></div><div class=\"sk-parallel\"><div class=\"sk-parallel-item\"><div class=\"sk-item\"><div class=\"sk-label-container\"><div class=\"sk-label sk-toggleable\"><input class=\"sk-toggleable__control sk-hidden--visually\" id=\"2f647206-12de-47ce-b4aa-12c21f19b5ba\" type=\"checkbox\" ><label for=\"2f647206-12de-47ce-b4aa-12c21f19b5ba\" class=\"sk-toggleable__label sk-toggleable__label-arrow\">num</label><div class=\"sk-toggleable__content\"><pre>[1, 2, 3, 4, 5, 7, 10, 11, 12, 13, 14, 15, 16, 17, 18, 19]</pre></div></div></div><div class=\"sk-serial\"><div class=\"sk-item\"><div class=\"sk-serial\"><div class=\"sk-item\"><div class=\"sk-estimator sk-toggleable\"><input class=\"sk-toggleable__control sk-hidden--visually\" id=\"798fa75a-1286-4797-99bd-b6212d60ca23\" type=\"checkbox\" ><label for=\"798fa75a-1286-4797-99bd-b6212d60ca23\" class=\"sk-toggleable__label sk-toggleable__label-arrow\">SimpleImputer</label><div class=\"sk-toggleable__content\"><pre>SimpleImputer(strategy=&#x27;median&#x27;)</pre></div></div></div><div class=\"sk-item\"><div class=\"sk-estimator sk-toggleable\"><input class=\"sk-toggleable__control sk-hidden--visually\" id=\"4dd510ff-420c-45fc-a51c-6d207289feaa\" type=\"checkbox\" ><label for=\"4dd510ff-420c-45fc-a51c-6d207289feaa\" class=\"sk-toggleable__label sk-toggleable__label-arrow\">RobustScaler</label><div class=\"sk-toggleable__content\"><pre>RobustScaler()</pre></div></div></div></div></div></div></div></div><div class=\"sk-parallel-item\"><div class=\"sk-item\"><div class=\"sk-label-container\"><div class=\"sk-label sk-toggleable\"><input class=\"sk-toggleable__control sk-hidden--visually\" id=\"5cd1e093-2c94-4074-a7f3-6bcfc8a00bf3\" type=\"checkbox\" ><label for=\"5cd1e093-2c94-4074-a7f3-6bcfc8a00bf3\" class=\"sk-toggleable__label sk-toggleable__label-arrow\">cat</label><div class=\"sk-toggleable__content\"><pre>[0, 6, 8, 9, 20]</pre></div></div></div><div class=\"sk-serial\"><div class=\"sk-item\"><div class=\"sk-serial\"><div class=\"sk-item\"><div class=\"sk-estimator sk-toggleable\"><input class=\"sk-toggleable__control sk-hidden--visually\" id=\"5acb3b7b-f0e4-476a-baab-a2131a6c36f8\" type=\"checkbox\" ><label for=\"5acb3b7b-f0e4-476a-baab-a2131a6c36f8\" class=\"sk-toggleable__label sk-toggleable__label-arrow\">SimpleImputer</label><div class=\"sk-toggleable__content\"><pre>SimpleImputer(strategy=&#x27;most_frequent&#x27;)</pre></div></div></div><div class=\"sk-item\"><div class=\"sk-estimator sk-toggleable\"><input class=\"sk-toggleable__control sk-hidden--visually\" id=\"b8109439-161f-44b7-b310-168ebe40fbf5\" type=\"checkbox\" ><label for=\"b8109439-161f-44b7-b310-168ebe40fbf5\" class=\"sk-toggleable__label sk-toggleable__label-arrow\">OneHotEncoder</label><div class=\"sk-toggleable__content\"><pre>OneHotEncoder(handle_unknown=&#x27;ignore&#x27;)</pre></div></div></div></div></div></div></div></div><div class=\"sk-parallel-item\"><div class=\"sk-item\"><div class=\"sk-label-container\"><div class=\"sk-label sk-toggleable\"><input class=\"sk-toggleable__control sk-hidden--visually\" id=\"fea6b7c2-f4d2-4f0d-80a0-54c53f91f242\" type=\"checkbox\" ><label for=\"fea6b7c2-f4d2-4f0d-80a0-54c53f91f242\" class=\"sk-toggleable__label sk-toggleable__label-arrow\">remainder</label><div class=\"sk-toggleable__content\"><pre></pre></div></div></div><div class=\"sk-serial\"><div class=\"sk-item\"><div class=\"sk-estimator sk-toggleable\"><input class=\"sk-toggleable__control sk-hidden--visually\" id=\"e4abf39e-947b-42cb-b33f-b0f1e99da22b\" type=\"checkbox\" ><label for=\"e4abf39e-947b-42cb-b33f-b0f1e99da22b\" class=\"sk-toggleable__label sk-toggleable__label-arrow\">passthrough</label><div class=\"sk-toggleable__content\"><pre>passthrough</pre></div></div></div></div></div></div></div></div><div class=\"sk-item\"><div class=\"sk-estimator sk-toggleable\"><input class=\"sk-toggleable__control sk-hidden--visually\" id=\"fcba0139-32e0-46e8-a44e-8c98c3aa47fd\" type=\"checkbox\" ><label for=\"fcba0139-32e0-46e8-a44e-8c98c3aa47fd\" class=\"sk-toggleable__label sk-toggleable__label-arrow\">XGBClassifier</label><div class=\"sk-toggleable__content\"><pre>XGBClassifier(alpha=10, base_score=None, booster=None, callbacks=None,\n",
       "              colsample_bylevel=None, colsample_bynode=None,\n",
       "              colsample_bytree=None, early_stopping_rounds=None,\n",
       "              enable_categorical=False, eval_metric=None, feature_types=None,\n",
       "              gamma=None, gpu_id=None, grow_policy=None, importance_type=None,\n",
       "              interaction_constraints=None, learning_rate=0.5, max_bin=None,\n",
       "              max_cat_threshold=None, max_cat_to_onehot=None,\n",
       "              max_delta_step=None, max_depth=16, max_leaves=None,\n",
       "              min_child_weight=None, missing=nan, monotone_constraints=None,\n",
       "              n_estimators=500, n_jobs=None, num_parallel_tree=None,\n",
       "              predictor=None, ...)</pre></div></div></div></div></div></div></div>"
      ],
      "text/plain": [
       "Pipeline(steps=[('preprocessor',\n",
       "                 ColumnTransformer(remainder='passthrough',\n",
       "                                   transformers=[('num',\n",
       "                                                  Pipeline(steps=[('imputer',\n",
       "                                                                   SimpleImputer(strategy='median')),\n",
       "                                                                  ('scaler',\n",
       "                                                                   RobustScaler())]),\n",
       "                                                  [1, 2, 3, 4, 5, 7, 10, 11, 12,\n",
       "                                                   13, 14, 15, 16, 17, 18,\n",
       "                                                   19]),\n",
       "                                                 ('cat',\n",
       "                                                  Pipeline(steps=[('imputer',\n",
       "                                                                   SimpleImputer(strategy='most_frequent')),\n",
       "                                                                  ('ohe',\n",
       "                                                                   OneHotEncoder(handle_unknown='ignore'))...\n",
       "                               feature_types=None, gamma=None, gpu_id=None,\n",
       "                               grow_policy=None, importance_type=None,\n",
       "                               interaction_constraints=None, learning_rate=0.5,\n",
       "                               max_bin=None, max_cat_threshold=None,\n",
       "                               max_cat_to_onehot=None, max_delta_step=None,\n",
       "                               max_depth=16, max_leaves=None,\n",
       "                               min_child_weight=None, missing=nan,\n",
       "                               monotone_constraints=None, n_estimators=500,\n",
       "                               n_jobs=None, num_parallel_tree=None,\n",
       "                               predictor=None, ...))])"
      ]
     },
     "execution_count": 40,
     "metadata": {},
     "output_type": "execute_result"
    }
   ],
   "source": [
    "from sklearn import set_config\n",
    "set_config(display='diagram')\n",
    "pipe"
   ]
  },
  {
   "cell_type": "code",
   "execution_count": 41,
   "id": "16c7576c",
   "metadata": {
    "scrolled": true
   },
   "outputs": [],
   "source": [
    "pipe.fit(X_train,y_train)\n",
    "y_pred = pipe.predict(X_test)\n"
   ]
  },
  {
   "cell_type": "code",
   "execution_count": 44,
   "id": "e9b64c6d",
   "metadata": {},
   "outputs": [],
   "source": [
    "import pickle\n",
    "\n",
    "pickle.dump(pipe,open('pipe.pkl','wb'))"
   ]
  },
  {
   "cell_type": "code",
   "execution_count": 45,
   "id": "421eb7ba",
   "metadata": {},
   "outputs": [],
   "source": [
    "pipe = pickle.load(open('pipe.pkl','rb'))"
   ]
  },
  {
   "cell_type": "code",
   "execution_count": 46,
   "id": "1e2cfad2",
   "metadata": {},
   "outputs": [
    {
     "data": {
      "text/plain": [
       "array(['Albury', 16.4, 27.0, 3.0, nan, nan, 'SW', 69.0, 'E', 'N', 9.0,\n",
       "       22.0, 82.0, 74.0, 1012.7, 1008.0, nan, 4.0, 19.9, 19.7, 'Yes'],\n",
       "      dtype=object)"
      ]
     },
     "execution_count": 46,
     "metadata": {},
     "output_type": "execute_result"
    }
   ],
   "source": [
    "X.iloc[103,:].values"
   ]
  },
  {
   "cell_type": "code",
   "execution_count": 47,
   "id": "6779127e",
   "metadata": {},
   "outputs": [
    {
     "data": {
      "text/plain": [
       "'Yes'"
      ]
     },
     "execution_count": 47,
     "metadata": {},
     "output_type": "execute_result"
    }
   ],
   "source": [
    "Y.iloc[103]"
   ]
  },
  {
   "cell_type": "code",
   "execution_count": 48,
   "id": "3a8a4225",
   "metadata": {},
   "outputs": [
    {
     "data": {
      "text/plain": [
       "array([1], dtype=int64)"
      ]
     },
     "execution_count": 48,
     "metadata": {},
     "output_type": "execute_result"
    }
   ],
   "source": [
    "pipe.predict(X.iloc[103,:].values.reshape(1,21))"
   ]
  },
  {
   "cell_type": "code",
   "execution_count": null,
   "id": "697f0ee5",
   "metadata": {},
   "outputs": [],
   "source": []
  }
 ],
 "metadata": {
  "kernelspec": {
   "display_name": "Python 3 (ipykernel)",
   "language": "python",
   "name": "python3"
  },
  "language_info": {
   "codemirror_mode": {
    "name": "ipython",
    "version": 3
   },
   "file_extension": ".py",
   "mimetype": "text/x-python",
   "name": "python",
   "nbconvert_exporter": "python",
   "pygments_lexer": "ipython3",
   "version": "3.9.0 (tags/v3.9.0:9cf6752, Oct  5 2020, 15:34:40) [MSC v.1927 64 bit (AMD64)]"
  },
  "vscode": {
   "interpreter": {
    "hash": "4cff3abf1678755e0069fd79299a535fe1940bcd71a6b01d9f4386710b2b163f"
   }
  }
 },
 "nbformat": 4,
 "nbformat_minor": 5
}
