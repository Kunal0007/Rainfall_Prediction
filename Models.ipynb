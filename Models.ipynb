{
 "cells": [
  {
   "cell_type": "code",
   "execution_count": 2,
   "id": "e2f3f6c6",
   "metadata": {},
   "outputs": [],
   "source": [
    "# Main imports\n",
    "import numpy as np\n",
    "import pandas as pd\n",
    "import matplotlib.pyplot as plt\n",
    "import seaborn as sns\n",
    "\n",
    "from sklearn.model_selection import train_test_split,StratifiedKFold,KFold,cross_val_score\n",
    "from sklearn.metrics import accuracy_score,confusion_matrix,classification_report\n",
    "from sklearn.compose import ColumnTransformer\n",
    "from sklearn.pipeline import Pipeline\n",
    "from sklearn.impute import SimpleImputer\n",
    "\n",
    "#Models\n",
    "from sklearn.ensemble import RandomForestClassifier\n",
    "from xgboost import XGBClassifier\n",
    "from sklearn.svm import SVC\n",
    "from sklearn.linear_model import LogisticRegression\n",
    "from sklearn.naive_bayes import GaussianNB\n",
    "from sklearn.neighbors import KNeighborsClassifier\n",
    "from sklearn.tree import DecisionTreeClassifier"
   ]
  },
  {
   "cell_type": "code",
   "execution_count": 3,
   "id": "9107e6a9",
   "metadata": {},
   "outputs": [],
   "source": [
    "df = pd.read_csv('preprocessed.csv')"
   ]
  },
  {
   "cell_type": "code",
   "execution_count": 4,
   "id": "bc992758",
   "metadata": {},
   "outputs": [],
   "source": [
    "X = df.drop([\"RainTomorrow\"], axis=1)\n",
    "Y = df[\"RainTomorrow\"]"
   ]
  },
  {
   "cell_type": "code",
   "execution_count": 5,
   "id": "2415a937",
   "metadata": {},
   "outputs": [],
   "source": [
    "X_train, X_test, y_train, y_test = train_test_split(X,Y, test_size =0.2, random_state = 0)"
   ]
  },
  {
   "cell_type": "markdown",
   "id": "c9df6662",
   "metadata": {},
   "source": [
    "As there were outliers we used RobustScaling"
   ]
  },
  {
   "cell_type": "code",
   "execution_count": 7,
   "id": "041a2716",
   "metadata": {},
   "outputs": [],
   "source": [
    "from sklearn.preprocessing import RobustScaler\n",
    "scaler = RobustScaler()\n",
    "scaler.fit(X_train)\n",
    "X_train = scaler.transform(X_train)\n",
    "X_test = scaler.transform(X_test)"
   ]
  },
  {
   "cell_type": "markdown",
   "id": "d3fd2128",
   "metadata": {},
   "source": [
    "Function to display accuracy and other metrices"
   ]
  },
  {
   "cell_type": "code",
   "execution_count": 8,
   "id": "b96531c8",
   "metadata": {},
   "outputs": [],
   "source": [
    "def eval_metric(model, X_train, y_train, X_test, y_test):\n",
    "    y_train_pred = model.predict(X_train)\n",
    "    y_pred = model.predict(X_test)\n",
    "    \n",
    "    print(\"Test_Set\")\n",
    "    print(\"confussion matrix\")\n",
    "    print(confusion_matrix(y_test, y_pred))\n",
    "    print(classification_report(y_test, y_pred))\n",
    "    print()\n",
    "    print(\"Train_Set\")\n",
    "    print(\"confussion matrix\")\n",
    "    print(confusion_matrix(y_train, y_train_pred))\n",
    "    print(classification_report(y_train, y_train_pred))\n",
    "    print()\n",
    "    dt_acc_score = accuracy_score(y_test, y_pred)\n",
    "    print(\"Accuracy :\",dt_acc_score*100,'\\n')"
   ]
  },
  {
   "cell_type": "markdown",
   "id": "1a69dbcd",
   "metadata": {},
   "source": [
    "Logistic Regressor : 84.37%"
   ]
  },
  {
   "cell_type": "code",
   "execution_count": 9,
   "id": "47523c43",
   "metadata": {},
   "outputs": [
    {
     "name": "stdout",
     "output_type": "stream",
     "text": [
      "Test_Set\n",
      "confussion matrix\n",
      "[[21552  1174]\n",
      " [ 3371  2995]]\n",
      "              precision    recall  f1-score   support\n",
      "\n",
      "           0       0.86      0.95      0.90     22726\n",
      "           1       0.72      0.47      0.57      6366\n",
      "\n",
      "    accuracy                           0.84     29092\n",
      "   macro avg       0.79      0.71      0.74     29092\n",
      "weighted avg       0.83      0.84      0.83     29092\n",
      "\n",
      "\n",
      "Train_Set\n",
      "confussion matrix\n",
      "[[86025  4832]\n",
      " [13342 12169]]\n",
      "              precision    recall  f1-score   support\n",
      "\n",
      "           0       0.87      0.95      0.90     90857\n",
      "           1       0.72      0.48      0.57     25511\n",
      "\n",
      "    accuracy                           0.84    116368\n",
      "   macro avg       0.79      0.71      0.74    116368\n",
      "weighted avg       0.83      0.84      0.83    116368\n",
      "\n",
      "\n",
      "Accuracy : 84.37714835693662 \n",
      "\n"
     ]
    }
   ],
   "source": [
    "classifier1 = LogisticRegression(random_state = 0,max_iter=1000)\n",
    "classifier1.fit(X_train, y_train)\n",
    "y_pred = classifier1.predict(X_test)\n",
    "eval_metric(classifier1, X_train, y_train, X_test, y_test)"
   ]
  },
  {
   "cell_type": "code",
   "execution_count": 10,
   "id": "e168a5ae",
   "metadata": {},
   "outputs": [],
   "source": [
    "#Takes lot of time due to big data\n",
    "# classifier2 = SVC(kernel = 'rbf', random_state = 0)\n",
    "# classifier2.fit(X_train, y_train)\n",
    "# y_pred = classifier2.predict(X_test)\n",
    "# eval_metric(classifier2, X_train, y_train, X_test, y_test)"
   ]
  },
  {
   "cell_type": "code",
   "execution_count": 11,
   "id": "57198628",
   "metadata": {},
   "outputs": [],
   "source": [
    "#Takes lot of time due to big data\n",
    "# classifier3 = KNeighborsClassifier(n_neighbors = 2)\n",
    "# classifier3.fit(X_train, y_train)\n",
    "# y_pred = classifier3.predict(X_test)\n",
    "# eval_metric(classifier3, X_train, y_train, X_test, y_test)"
   ]
  },
  {
   "cell_type": "markdown",
   "id": "c559b960",
   "metadata": {},
   "source": [
    "Decision Tree : 78.86%"
   ]
  },
  {
   "cell_type": "code",
   "execution_count": 12,
   "id": "eab1bfb0",
   "metadata": {},
   "outputs": [
    {
     "name": "stdout",
     "output_type": "stream",
     "text": [
      "Test_Set\n",
      "confussion matrix\n",
      "[[19569  3157]\n",
      " [ 2991  3375]]\n",
      "              precision    recall  f1-score   support\n",
      "\n",
      "           0       0.87      0.86      0.86     22726\n",
      "           1       0.52      0.53      0.52      6366\n",
      "\n",
      "    accuracy                           0.79     29092\n",
      "   macro avg       0.69      0.70      0.69     29092\n",
      "weighted avg       0.79      0.79      0.79     29092\n",
      "\n",
      "\n",
      "Train_Set\n",
      "confussion matrix\n",
      "[[90856     1]\n",
      " [    6 25505]]\n",
      "              precision    recall  f1-score   support\n",
      "\n",
      "           0       1.00      1.00      1.00     90857\n",
      "           1       1.00      1.00      1.00     25511\n",
      "\n",
      "    accuracy                           1.00    116368\n",
      "   macro avg       1.00      1.00      1.00    116368\n",
      "weighted avg       1.00      1.00      1.00    116368\n",
      "\n",
      "\n",
      "Accuracy : 78.86704248590678 \n",
      "\n"
     ]
    }
   ],
   "source": [
    "classifier4 = DecisionTreeClassifier(random_state = 0)\n",
    "classifier4.fit(X_train, y_train)\n",
    "y_pred = classifier4.predict(X_test)\n",
    "eval_metric(classifier4, X_train, y_train, X_test, y_test)"
   ]
  },
  {
   "cell_type": "markdown",
   "id": "851f59db",
   "metadata": {},
   "source": [
    "RandomForest : 85.73%"
   ]
  },
  {
   "cell_type": "code",
   "execution_count": 13,
   "id": "95ef9683",
   "metadata": {},
   "outputs": [
    {
     "name": "stdout",
     "output_type": "stream",
     "text": [
      "Test_Set\n",
      "confussion matrix\n",
      "[[21753   973]\n",
      " [ 3178  3188]]\n",
      "              precision    recall  f1-score   support\n",
      "\n",
      "           0       0.87      0.96      0.91     22726\n",
      "           1       0.77      0.50      0.61      6366\n",
      "\n",
      "    accuracy                           0.86     29092\n",
      "   macro avg       0.82      0.73      0.76     29092\n",
      "weighted avg       0.85      0.86      0.85     29092\n",
      "\n",
      "\n",
      "Train_Set\n",
      "confussion matrix\n",
      "[[90856     1]\n",
      " [    6 25505]]\n",
      "              precision    recall  f1-score   support\n",
      "\n",
      "           0       1.00      1.00      1.00     90857\n",
      "           1       1.00      1.00      1.00     25511\n",
      "\n",
      "    accuracy                           1.00    116368\n",
      "   macro avg       1.00      1.00      1.00    116368\n",
      "weighted avg       1.00      1.00      1.00    116368\n",
      "\n",
      "\n",
      "Accuracy : 85.73147256977863 \n",
      "\n"
     ]
    }
   ],
   "source": [
    "classifier5 = RandomForestClassifier(n_estimators = 500)\n",
    "classifier5.fit(X_train, y_train)\n",
    "y_pred = classifier5.predict(X_test)\n",
    "eval_metric(classifier5, X_train, y_train, X_test, y_test)"
   ]
  },
  {
   "cell_type": "markdown",
   "id": "c7faa377",
   "metadata": {},
   "source": [
    "Naive Bayes : 90.37%"
   ]
  },
  {
   "cell_type": "code",
   "execution_count": 14,
   "id": "d5235bdc",
   "metadata": {},
   "outputs": [
    {
     "name": "stdout",
     "output_type": "stream",
     "text": [
      "Test_Set\n",
      "confussion matrix\n",
      "[[19591  3135]\n",
      " [ 2574  3792]]\n",
      "              precision    recall  f1-score   support\n",
      "\n",
      "           0       0.88      0.86      0.87     22726\n",
      "           1       0.55      0.60      0.57      6366\n",
      "\n",
      "    accuracy                           0.80     29092\n",
      "   macro avg       0.72      0.73      0.72     29092\n",
      "weighted avg       0.81      0.80      0.81     29092\n",
      "\n",
      "\n",
      "Train_Set\n",
      "confussion matrix\n",
      "[[77887 12970]\n",
      " [10060 15451]]\n",
      "              precision    recall  f1-score   support\n",
      "\n",
      "           0       0.89      0.86      0.87     90857\n",
      "           1       0.54      0.61      0.57     25511\n",
      "\n",
      "    accuracy                           0.80    116368\n",
      "   macro avg       0.71      0.73      0.72    116368\n",
      "weighted avg       0.81      0.80      0.81    116368\n",
      "\n",
      "\n",
      "Accuracy : 80.37604839818506 \n",
      "\n"
     ]
    }
   ],
   "source": [
    "classifier6 = GaussianNB()\n",
    "classifier6.fit(X_train, y_train)\n",
    "y_pred = classifier6.predict(X_test)\n",
    "eval_metric(classifier6, X_train, y_train, X_test, y_test)"
   ]
  },
  {
   "cell_type": "markdown",
   "id": "91a16464",
   "metadata": {},
   "source": [
    "XGBoost : 86.01%"
   ]
  },
  {
   "cell_type": "code",
   "execution_count": 22,
   "id": "d154604b",
   "metadata": {
    "scrolled": true
   },
   "outputs": [
    {
     "name": "stdout",
     "output_type": "stream",
     "text": [
      "Test_Set\n",
      "confussion matrix\n",
      "[[21435  1291]\n",
      " [ 2779  3587]]\n",
      "              precision    recall  f1-score   support\n",
      "\n",
      "           0       0.89      0.94      0.91     22726\n",
      "           1       0.74      0.56      0.64      6366\n",
      "\n",
      "    accuracy                           0.86     29092\n",
      "   macro avg       0.81      0.75      0.78     29092\n",
      "weighted avg       0.85      0.86      0.85     29092\n",
      "\n",
      "\n",
      "Train_Set\n",
      "confussion matrix\n",
      "[[87633  3224]\n",
      " [ 8926 16585]]\n",
      "              precision    recall  f1-score   support\n",
      "\n",
      "           0       0.91      0.96      0.94     90857\n",
      "           1       0.84      0.65      0.73     25511\n",
      "\n",
      "    accuracy                           0.90    116368\n",
      "   macro avg       0.87      0.81      0.83    116368\n",
      "weighted avg       0.89      0.90      0.89    116368\n",
      "\n",
      "\n",
      "Accuracy : 86.00989962876392 \n",
      "\n"
     ]
    }
   ],
   "source": [
    "params = {\n",
    "            'objective':'binary:logistic',\n",
    "            'max_depth': 4,\n",
    "            'alpha': 10,\n",
    "            'learning_rate': 0.5,\n",
    "            'n_estimators':500\n",
    "        }        \n",
    "classifier7 = XGBClassifier(**params)\n",
    "classifier7.fit(X_train, y_train)\n",
    "y_pred = classifier7.predict(X_test)\n",
    "eval_metric(classifier7, X_train, y_train, X_test, y_test)"
   ]
  },
  {
   "cell_type": "markdown",
   "id": "9ee92729",
   "metadata": {},
   "source": [
    "Gradient Boost : 85.63%"
   ]
  },
  {
   "cell_type": "code",
   "execution_count": 17,
   "id": "073036a5",
   "metadata": {},
   "outputs": [],
   "source": [
    "from sklearn.ensemble import GradientBoostingClassifier\n",
    "classifier8 = GradientBoostingClassifier(n_estimators=500)\n",
    "classifier8.fit(X_train,y_train)\n",
    "y_pred = classifier8.predict(X_test)"
   ]
  },
  {
   "cell_type": "code",
   "execution_count": 18,
   "id": "469a3524",
   "metadata": {},
   "outputs": [
    {
     "name": "stdout",
     "output_type": "stream",
     "text": [
      "Test_Set\n",
      "confussion matrix\n",
      "[[21594  1132]\n",
      " [ 3046  3320]]\n",
      "              precision    recall  f1-score   support\n",
      "\n",
      "           0       0.88      0.95      0.91     22726\n",
      "           1       0.75      0.52      0.61      6366\n",
      "\n",
      "    accuracy                           0.86     29092\n",
      "   macro avg       0.81      0.74      0.76     29092\n",
      "weighted avg       0.85      0.86      0.85     29092\n",
      "\n",
      "\n",
      "Train_Set\n",
      "confussion matrix\n",
      "[[86676  4181]\n",
      " [11635 13876]]\n",
      "              precision    recall  f1-score   support\n",
      "\n",
      "           0       0.88      0.95      0.92     90857\n",
      "           1       0.77      0.54      0.64     25511\n",
      "\n",
      "    accuracy                           0.86    116368\n",
      "   macro avg       0.83      0.75      0.78    116368\n",
      "weighted avg       0.86      0.86      0.86    116368\n",
      "\n",
      "\n",
      "Accuracy : 85.63866355011686 \n",
      "\n"
     ]
    }
   ],
   "source": [
    "eval_metric(classifier8, X_train, y_train, X_test, y_test)"
   ]
  },
  {
   "cell_type": "markdown",
   "id": "1a90a91a",
   "metadata": {},
   "source": [
    "Cross Validating RandomForest"
   ]
  },
  {
   "cell_type": "code",
   "execution_count": 16,
   "id": "105663be",
   "metadata": {},
   "outputs": [
    {
     "name": "stdout",
     "output_type": "stream",
     "text": [
      "[0.85906778 0.8580022  0.85494294 0.85776158 0.85738347] 85.7431596315138\n"
     ]
    }
   ],
   "source": [
    "cv = StratifiedKFold(n_splits=5, random_state=1, shuffle=True)\n",
    "scores = cross_val_score(classifier5, X,Y, scoring='accuracy', cv=cv, n_jobs=-1)\n",
    "print(scores,scores.mean()*100)"
   ]
  },
  {
   "cell_type": "markdown",
   "id": "a3daadef",
   "metadata": {},
   "source": [
    "Cross Validating XGBoost"
   ]
  },
  {
   "cell_type": "code",
   "execution_count": 24,
   "id": "12005614",
   "metadata": {},
   "outputs": [
    {
     "name": "stdout",
     "output_type": "stream",
     "text": [
      "[0.8614052  0.85862093 0.85838031 0.86150832 0.86051148] 86.00852468032448\n"
     ]
    }
   ],
   "source": [
    "cv = StratifiedKFold(n_splits=5, random_state=1, shuffle=True)\n",
    "scores = cross_val_score(classifier7, X,Y, scoring='accuracy', cv=cv, n_jobs=-1)\n",
    "print(scores,scores.mean()*100)"
   ]
  },
  {
   "cell_type": "code",
   "execution_count": null,
   "id": "20e16278",
   "metadata": {},
   "outputs": [],
   "source": []
  }
 ],
 "metadata": {
  "kernelspec": {
   "display_name": "Python 3 (ipykernel)",
   "language": "python",
   "name": "python3"
  },
  "language_info": {
   "codemirror_mode": {
    "name": "ipython",
    "version": 3
   },
   "file_extension": ".py",
   "mimetype": "text/x-python",
   "name": "python",
   "nbconvert_exporter": "python",
   "pygments_lexer": "ipython3",
   "version": "3.9.12"
  }
 },
 "nbformat": 4,
 "nbformat_minor": 5
}
